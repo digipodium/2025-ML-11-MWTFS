{
 "cells": [
  {
   "cell_type": "code",
   "execution_count": 101,
   "metadata": {},
   "outputs": [],
   "source": [
    "import math\n",
    "import random"
   ]
  },
  {
   "cell_type": "code",
   "execution_count": 102,
   "metadata": {},
   "outputs": [],
   "source": [
    "#we have 3 slot machines, and we will play 10 rounds\n",
    "n_machines = 3\n",
    "n_trial = 10"
   ]
  },
  {
   "cell_type": "code",
   "execution_count": 103,
   "metadata": {},
   "outputs": [],
   "source": [
    "true_rewards = [0.2, 0.5, 0.8] # true reward probabilities for each machine"
   ]
  },
  {
   "cell_type": "markdown",
   "metadata": {},
   "source": [
    "- count[i] stores how many times machine i has been played\n",
    "- rewards[i] stores how many total rewards were received from machine i\n",
    "- initially, all values are 0 because we haven't played yet"
   ]
  },
  {
   "cell_type": "code",
   "execution_count": 104,
   "metadata": {},
   "outputs": [],
   "source": [
    "count = [0] * n_machines\n",
    "rewards = [0] * n_machines"
   ]
  },
  {
   "cell_type": "code",
   "execution_count": 105,
   "metadata": {},
   "outputs": [],
   "source": [
    "#this loop runs 10 times (since n_trial = 10)\n",
    "#each time, agent chooses a slot machine to play\n",
    "for t in range(1, n_trial+1):\n",
    "    #if any machine hasn't been played yet (o in count),we choose it first\n",
    "    #this ensures each machine is played at least once before applying the ucb formula, this is called exploration\n",
    "    if 0 in count:\n",
    "        arm = count.index(0)\n",
    "    else:\n",
    "        #calculate the upper confidence bound (UCB) for each machine\n",
    "        #average reward + exploration bonus\n",
    "        ucb_values = [\n",
    "            rewards[i]/count[i]+math.sqrt(2*math.log(t)/count[i])\n",
    "            for i in range(n_machines)\n",
    "        ]\n",
    "        arm = ucb_values.index(max(ucb_values)) #Pick machine with highest UCB value\n",
    "\n",
    "    reward = 1 if random.random() < true_rewards[arm] else 0\n",
    "    count[arm] += 1\n",
    "    rewards[arm] += reward"
   ]
  },
  {
   "cell_type": "code",
   "execution_count": 106,
   "metadata": {},
   "outputs": [
    {
     "name": "stdout",
     "output_type": "stream",
     "text": [
      "Machine 1: Played 2 times, Estimated win rate: 0.00\n",
      "Machine 2: Played 3 times, Estimated win rate: 0.33\n",
      "Machine 3: Played 5 times, Estimated win rate: 0.80\n",
      "Best machine to play: 3\n"
     ]
    }
   ],
   "source": [
    "# Show results\n",
    "for i in range(n_machines):\n",
    "    print(f\"Machine {i+1}: Played {count[i]} times, Estimated win rate: {rewards[i] / count[i]:.2f}\")\n",
    "\n",
    "print(\"Best machine to play:\", rewards.index(max(rewards)) + 1)"
   ]
  },
  {
   "cell_type": "code",
   "execution_count": null,
   "metadata": {},
   "outputs": [],
   "source": []
  },
  {
   "cell_type": "code",
   "execution_count": null,
   "metadata": {},
   "outputs": [],
   "source": []
  }
 ],
 "metadata": {
  "kernelspec": {
   "display_name": "base",
   "language": "python",
   "name": "python3"
  },
  "language_info": {
   "codemirror_mode": {
    "name": "ipython",
    "version": 3
   },
   "file_extension": ".py",
   "mimetype": "text/x-python",
   "name": "python",
   "nbconvert_exporter": "python",
   "pygments_lexer": "ipython3",
   "version": "3.12.9"
  }
 },
 "nbformat": 4,
 "nbformat_minor": 2
}
