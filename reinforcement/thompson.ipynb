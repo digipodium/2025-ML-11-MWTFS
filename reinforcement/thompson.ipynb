{
 "cells": [
  {
   "cell_type": "code",
   "execution_count": 7,
   "id": "de8daeb2",
   "metadata": {},
   "outputs": [],
   "source": [
    "import random"
   ]
  },
  {
   "cell_type": "code",
   "execution_count": 8,
   "id": "75def831",
   "metadata": {},
   "outputs": [],
   "source": [
    "n_machine = 3\n",
    "n_trials = 10"
   ]
  },
  {
   "cell_type": "code",
   "execution_count": 9,
   "id": "ab9daacb",
   "metadata": {},
   "outputs": [],
   "source": [
    "true_rewards = [0.2, 0.5, 0.8]"
   ]
  },
  {
   "cell_type": "code",
   "execution_count": 10,
   "id": "c45f0875",
   "metadata": {},
   "outputs": [],
   "source": [
    "success = [0] * n_machine\n",
    "failures = [0] * n_machine"
   ]
  },
  {
   "cell_type": "code",
   "execution_count": 11,
   "id": "d88a72df",
   "metadata": {},
   "outputs": [],
   "source": [
    "for i in range(n_trials):\n",
    "    sampled_values = [random.betavariate(success[i]+1, failures[i]+1) for i in range(n_machine)]\n",
    "\n",
    "    arm = sampled_values.index(max(sampled_values)) #chosse the best guess\n",
    "\n",
    "    reward = 1 if random.random() < true_rewards[arm] else 0\n",
    "\n",
    "    if reward == 1:\n",
    "        success[arm] += 1\n",
    "    else:\n",
    "        failures[arm] += 1"
   ]
  },
  {
   "cell_type": "code",
   "execution_count": 12,
   "id": "fa972e5f",
   "metadata": {},
   "outputs": [
    {
     "name": "stdout",
     "output_type": "stream",
     "text": [
      "Machine 1: Played 2 times, Estimated win rate: 0.00\n",
      "Machine 2: Played 2 times, Estimated win rate: 0.50\n",
      "Machine 3: Played 6 times, Estimated win rate: 0.50\n",
      "Best Machine to play: 3\n"
     ]
    }
   ],
   "source": [
    "for i in range(n_machine):\n",
    "    total = success[i] + failures[i]\n",
    "    print(f'Machine {i+1}: Played {total} times, Estimated win rate: { success[i]/total:.2f}')\n",
    "\n",
    "print(\"Best Machine to play:\", success.index(max(success)) + 1)"
   ]
  },
  {
   "cell_type": "code",
   "execution_count": null,
   "id": "9eedab3c",
   "metadata": {},
   "outputs": [],
   "source": []
  }
 ],
 "metadata": {
  "kernelspec": {
   "display_name": "base",
   "language": "python",
   "name": "python3"
  },
  "language_info": {
   "codemirror_mode": {
    "name": "ipython",
    "version": 3
   },
   "file_extension": ".py",
   "mimetype": "text/x-python",
   "name": "python",
   "nbconvert_exporter": "python",
   "pygments_lexer": "ipython3",
   "version": "3.12.9"
  }
 },
 "nbformat": 4,
 "nbformat_minor": 5
}
