{
 "cells": [
  {
   "cell_type": "code",
   "execution_count": 2,
   "id": "9b167526",
   "metadata": {},
   "outputs": [],
   "source": [
    "import tensorflow as tf\n",
    "from tensorflow.keras.applications import MobileNetV2\n",
    "from tensorflow.keras.models import Model\n",
    "from tensorflow.keras.layers import Dense, GlobalAveragePooling2D"
   ]
  },
  {
   "cell_type": "code",
   "execution_count": 3,
   "id": "828f338d",
   "metadata": {},
   "outputs": [],
   "source": [
    "import tensorflow_datasets as tfds\n",
    "(train_ds, val_ds), ds_info = tfds.load(\n",
    "    'tf_flowers',\n",
    "    split=['train[:80%]', 'train[80%:]'],\n",
    "    as_supervised=True,\n",
    "    with_info=True\n",
    ")"
   ]
  },
  {
   "cell_type": "code",
   "execution_count": 4,
   "id": "78f95b98",
   "metadata": {},
   "outputs": [],
   "source": [
    "IMG_SIZE = 160\n",
    "def preprocess(image, label):\n",
    "    image = tf.image.resize(image, (IMG_SIZE, IMG_SIZE)) #resize all images to 160x160\n",
    "    image = image / 255.0 #normalize to [0,1] range\n",
    "    return image, label"
   ]
  },
  {
   "cell_type": "code",
   "execution_count": 5,
   "id": "bd60c687",
   "metadata": {},
   "outputs": [],
   "source": [
    "train_ds = train_ds.map(preprocess).batch(32).shuffle(1000)\n",
    "val_ds = val_ds.map(preprocess).batch(32)"
   ]
  },
  {
   "cell_type": "code",
   "execution_count": 6,
   "id": "f09cce02",
   "metadata": {},
   "outputs": [],
   "source": [
    "#frozen_layers\n",
    "base_model = MobileNetV2(input_shape=(IMG_SIZE, IMG_SIZE, 3),\n",
    "                        include_top = False,\n",
    "                        weights = 'imagenet')\n",
    "base_model.trainable = False #freeze the base model"
   ]
  },
  {
   "cell_type": "code",
   "execution_count": null,
   "id": "e1a4594e",
   "metadata": {},
   "outputs": [],
   "source": [
    "x = base_model.output\n",
    "x = GlobalAveragePooling2D()(x) #add a global spatial average pooling layer\n",
    "x = Dense(128, activation='relu')(x) #add a fully-connected layer   \n",
    "predictions = Dense(5, activation='softmax')(x) #add a logistic layer with 5 classes"
   ]
  },
  {
   "cell_type": "code",
   "execution_count": 8,
   "id": "56aff003",
   "metadata": {},
   "outputs": [],
   "source": [
    "model = Model(inputs=base_model.input, outputs=predictions) #create the final model"
   ]
  },
  {
   "cell_type": "code",
   "execution_count": 11,
   "id": "edbf0e03",
   "metadata": {},
   "outputs": [
    {
     "name": "stdout",
     "output_type": "stream",
     "text": [
      "Epoch 1/5\n",
      "\u001b[1m92/92\u001b[0m \u001b[32m━━━━━━━━━━━━━━━━━━━━\u001b[0m\u001b[37m\u001b[0m \u001b[1m61s\u001b[0m 567ms/step - accuracy: 0.7125 - loss: 0.7635 - val_accuracy: 0.8678 - val_loss: 0.3734\n",
      "Epoch 2/5\n",
      "\u001b[1m92/92\u001b[0m \u001b[32m━━━━━━━━━━━━━━━━━━━━\u001b[0m\u001b[37m\u001b[0m \u001b[1m50s\u001b[0m 537ms/step - accuracy: 0.9315 - loss: 0.2057 - val_accuracy: 0.8978 - val_loss: 0.3082\n",
      "Epoch 3/5\n",
      "\u001b[1m92/92\u001b[0m \u001b[32m━━━━━━━━━━━━━━━━━━━━\u001b[0m\u001b[37m\u001b[0m \u001b[1m47s\u001b[0m 508ms/step - accuracy: 0.9674 - loss: 0.1295 - val_accuracy: 0.8896 - val_loss: 0.3265\n",
      "Epoch 4/5\n",
      "\u001b[1m92/92\u001b[0m \u001b[32m━━━━━━━━━━━━━━━━━━━━\u001b[0m\u001b[37m\u001b[0m \u001b[1m47s\u001b[0m 509ms/step - accuracy: 0.9802 - loss: 0.0805 - val_accuracy: 0.9019 - val_loss: 0.3190\n",
      "Epoch 5/5\n",
      "\u001b[1m92/92\u001b[0m \u001b[32m━━━━━━━━━━━━━━━━━━━━\u001b[0m\u001b[37m\u001b[0m \u001b[1m48s\u001b[0m 514ms/step - accuracy: 0.9916 - loss: 0.0490 - val_accuracy: 0.9060 - val_loss: 0.3195\n"
     ]
    },
    {
     "data": {
      "text/plain": [
       "<keras.src.callbacks.history.History at 0x23668213a40>"
      ]
     },
     "execution_count": 11,
     "metadata": {},
     "output_type": "execute_result"
    }
   ],
   "source": [
    "model.compile(optimizer='adam',\n",
    "              loss='sparse_categorical_crossentropy',\n",
    "              metrics=['accuracy']) \n",
    "model.fit(train_ds, validation_data=val_ds, epochs=5) #train the model"
   ]
  },
  {
   "cell_type": "code",
   "execution_count": null,
   "id": "199738cc",
   "metadata": {},
   "outputs": [],
   "source": []
  }
 ],
 "metadata": {
  "kernelspec": {
   "display_name": "base",
   "language": "python",
   "name": "python3"
  },
  "language_info": {
   "codemirror_mode": {
    "name": "ipython",
    "version": 3
   },
   "file_extension": ".py",
   "mimetype": "text/x-python",
   "name": "python",
   "nbconvert_exporter": "python",
   "pygments_lexer": "ipython3",
   "version": "3.12.9"
  }
 },
 "nbformat": 4,
 "nbformat_minor": 5
}
